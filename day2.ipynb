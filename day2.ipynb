{
 "cells": [
  {
   "cell_type": "code",
   "execution_count": 1,
   "metadata": {},
   "outputs": [],
   "source": [
    "import numpy as np"
   ]
  },
  {
   "cell_type": "code",
   "execution_count": 44,
   "metadata": {},
   "outputs": [],
   "source": [
    "def part1(line):\n",
    "    colors = {'red': 12, 'green': 13, 'blue': 14}\n",
    "    split_1 = line.split(':')\n",
    "    id = int(split_1[0][4:])\n",
    "    split_2 = split_1[1].split(';')\n",
    "    remove = False\n",
    "    for s in split_2:\n",
    "        split_3 = s.split(',')\n",
    "        for s_1 in split_3:\n",
    "            number = int(s_1.split(' ')[1])\n",
    "            color = s_1.split(' ')[2].split('\\n')[0]\n",
    "            if(colors[color] < number):\n",
    "                remove = True\n",
    "    return remove, id"
   ]
  },
  {
   "cell_type": "code",
   "execution_count": 52,
   "metadata": {},
   "outputs": [],
   "source": [
    "def part2(line):\n",
    "    current_colors = {'red': 0, 'green': 0, 'blue': 0}\n",
    "    split_1 = line.split(':')\n",
    "    id = int(split_1[0][4:])\n",
    "    split_2 = split_1[1].split(';')\n",
    "    remove = False\n",
    "    for s in split_2:\n",
    "        split_3 = s.split(',')\n",
    "        for s_1 in split_3:\n",
    "            number = int(s_1.split(' ')[1])\n",
    "            color = s_1.split(' ')[2].split('\\n')[0]\n",
    "            if(current_colors[color] < number):\n",
    "                current_colors[color] = number\n",
    "    res = current_colors['red'] * current_colors['green'] * current_colors['blue']\n",
    "    return res"
   ]
  },
  {
   "cell_type": "code",
   "execution_count": 56,
   "metadata": {},
   "outputs": [
    {
     "name": "stdout",
     "output_type": "stream",
     "text": [
      "2683\n"
     ]
    }
   ],
   "source": [
    "list = []\n",
    "with open('day2.txt') as f:\n",
    "    for i, line in enumerate(f):\n",
    "        remove, id = part1(line)    \n",
    "        if(not remove):\n",
    "            list.append(id)\n",
    "print(np.sum(list))"
   ]
  },
  {
   "cell_type": "code",
   "execution_count": 55,
   "metadata": {},
   "outputs": [
    {
     "name": "stdout",
     "output_type": "stream",
     "text": [
      "49710\n"
     ]
    }
   ],
   "source": [
    "list = []\n",
    "with open('day2.txt') as f:\n",
    "    for i, line in enumerate(f):\n",
    "        res = part2(line)    \n",
    "        list.append(res)\n",
    "print(np.sum(list))\n",
    "                    "
   ]
  }
 ],
 "metadata": {
  "kernelspec": {
   "display_name": "cv1",
   "language": "python",
   "name": "python3"
  },
  "language_info": {
   "codemirror_mode": {
    "name": "ipython",
    "version": 3
   },
   "file_extension": ".py",
   "mimetype": "text/x-python",
   "name": "python",
   "nbconvert_exporter": "python",
   "pygments_lexer": "ipython3",
   "version": "3.10.8"
  }
 },
 "nbformat": 4,
 "nbformat_minor": 2
}
